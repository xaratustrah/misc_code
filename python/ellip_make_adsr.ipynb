{
 "metadata": {
  "name": "",
  "signature": "sha256:fd7278a34dacd65b8a95de69227d3c9237d644f46f5c51ee63e1a85cb22c6adf"
 },
 "nbformat": 3,
 "nbformat_minor": 0,
 "worksheets": [
  {
   "cells": [
    {
     "cell_type": "code",
     "collapsed": false,
     "input": [
      "import numpy as np\n",
      "from iqtools import *\n",
      "import matplotlib.pyplot as plt\n",
      "%matplotlib inline"
     ],
     "language": "python",
     "metadata": {},
     "outputs": [],
     "prompt_number": 3
    },
    {
     "cell_type": "code",
     "collapsed": false,
     "input": [
      "t, x = make_signal(200, 44100, 1, noise=False)"
     ],
     "language": "python",
     "metadata": {},
     "outputs": [],
     "prompt_number": 4
    },
    {
     "cell_type": "code",
     "collapsed": false,
     "input": [
      "def make_a(fs, l = 1, rt = 0.2):\n",
      "    \"\"\"Make an ADSR curve.\"\"\"\n",
      "\n",
      "    t = np.arange(0, l, 1/fs)\n",
      "    sec = int(len(t)/4)\n",
      "    x = np.piecewise(t, [t< t[sec], ((t>=t[sec])&(t<t[sec*2])), \n",
      "                         ((t>=t[sec*2])&(t<t[sec*3])), t>=t[sec*3]], \n",
      "                        [lambda u: 1-np.e**(-u*5/rt),\n",
      "                         lambda u: 1.271*np.e**(-u/(0.3*l/np.log(3/4))),\n",
      "                         0.75,\n",
      "                         lambda u: np.e**(-u*5/rt/5)])\n",
      "    return t, x"
     ],
     "language": "python",
     "metadata": {},
     "outputs": [],
     "prompt_number": 5
    },
    {
     "cell_type": "code",
     "collapsed": false,
     "input": [
      "t, x2 = make_a(44100)"
     ],
     "language": "python",
     "metadata": {},
     "outputs": [],
     "prompt_number": 6
    },
    {
     "cell_type": "code",
     "collapsed": false,
     "input": [
      "plt.plot(t,x2)"
     ],
     "language": "python",
     "metadata": {},
     "outputs": [
      {
       "metadata": {},
       "output_type": "pyout",
       "prompt_number": 7,
       "text": [
        "[<matplotlib.lines.Line2D at 0x10a6aff98>]"
       ]
      },
      {
       "metadata": {},
       "output_type": "display_data",
       "png": "[encoded data removed]",
       "text": [
        "<matplotlib.figure.Figure at 0x10a495a20>"
       ]
      }
     ],
     "prompt_number": 7
    },
    {
     "cell_type": "code",
     "collapsed": false,
     "input": [],
     "language": "python",
     "metadata": {},
     "outputs": [],
     "prompt_number": 131
    },
    {
     "cell_type": "code",
     "collapsed": false,
     "input": [],
     "language": "python",
     "metadata": {},
     "outputs": []
    }
   ],
   "metadata": {}
  }
 ]
}
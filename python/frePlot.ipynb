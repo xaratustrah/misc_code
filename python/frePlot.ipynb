{
 "metadata": {
  "name": "",
  "signature": "sha256:f01ef48dcf8cc4e9e1b7aa67485fc71f62af37e1768d28ec0a88e5812162889f"
 },
 "nbformat": 3,
 "nbformat_minor": 0,
 "worksheets": [
  {
   "cells": [
    {
     "cell_type": "code",
     "collapsed": false,
     "input": [
      "import matplotlib.pyplot as plt\n",
      "import numpy as np\n",
      "%matplotlib inline"
     ],
     "language": "python",
     "metadata": {},
     "outputs": [],
     "prompt_number": 1
    },
    {
     "cell_type": "code",
     "collapsed": false,
     "input": [
      "def plotTime(x, Fs):\n",
      "    Ts = 1.0/Fs\n",
      "    n = x.size\n",
      "    t = np.arange(0, n*Ts, Ts)\n",
      "    fig = plt.figure()\n",
      "    ax1 = plt.subplot(211)\n",
      "    plt.xlabel('Time (s)')\n",
      "    plt.ylabel('Amplitude')\n",
      "    plt.plot(t,x)\n",
      "    \n",
      "    y = np.fft.fft(x)/n\n",
      "    #y = np.fft.fftshift(y)\n",
      "    #y = y[1:n/2]\n",
      "    \n",
      "    k = np.arange(n)\n",
      "    f = k*Fs/n\n",
      "    freq = np.fft.fftfreq(n, d=Ts)\n",
      "    #f=f[1:n/2]\n",
      "    \n",
      "    ax2 = plt.subplot(212)\n",
      "    plt.plot(freq, abs(y), 'r')\n",
      "    plt.xlabel('Freq (Hz)')\n",
      "    plt.ylabel('|Y(freq)|')\n",
      "    plt.show()"
     ],
     "language": "python",
     "metadata": {},
     "outputs": [],
     "prompt_number": 114
    },
    {
     "cell_type": "code",
     "collapsed": false,
     "input": [
      "Fs = 1000\n",
      "Ts = 1.0/Fs\n",
      "t = np.arange(0, 5, Ts, dtype = complex)\n",
      "y = np.sin(2*np.pi*200*t)\n",
      "#y += np.sin(2*np.pi*400*t)\n",
      "plotTime(y, Fs)"
     ],
     "language": "python",
     "metadata": {},
     "outputs": [
      {
       "metadata": {},
       "output_type": "display_data",
       "png": "[encoded data removed]",
       "text": [
        "<matplotlib.figure.Figure at 0x10ba86470>"
       ]
      }
     ],
     "prompt_number": 116
    },
    {
     "cell_type": "code",
     "collapsed": false,
     "input": [],
     "language": "python",
     "metadata": {},
     "outputs": [],
     "prompt_number": 116
    },
    {
     "cell_type": "code",
     "collapsed": false,
     "input": [],
     "language": "python",
     "metadata": {},
     "outputs": []
    }
   ],
   "metadata": {}
  }
 ]
}
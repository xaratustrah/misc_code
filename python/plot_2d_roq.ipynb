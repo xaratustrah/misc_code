{
 "metadata": {
  "name": "",
  "signature": "sha256:85f5c2cacd0b727a50e9f1133326fb7a8ac799dd4e438ac730fd7bff77f376fb"
 },
 "nbformat": 3,
 "nbformat_minor": 0,
 "worksheets": [
  {
   "cells": [
    {
     "cell_type": "code",
     "collapsed": false,
     "input": [
      "import numpy as np\n",
      "import matplotlib.pyplot as plt\n",
      "%matplotlib inline"
     ],
     "language": "python",
     "metadata": {},
     "outputs": [],
     "prompt_number": 1
    },
    {
     "cell_type": "code",
     "collapsed": false,
     "input": [
      "class RoQ_2d:\n",
      "    def __init__(self, f0):\n",
      "        self.f0 = f0\n",
      "        self.roq = 0\n",
      "    def __call__(self, data):\n",
      "        self.roq = np.trapz(data[:,1], data[:,0]/100)**2 / 382.737e6/2/np.pi\n",
      "        return self.roq\n",
      "    def __str__(self):\n",
      "        return 'The R/Q is {} ohms.'.format(self.roq)"
     ],
     "language": "python",
     "metadata": {},
     "outputs": [],
     "prompt_number": 2
    },
    {
     "cell_type": "code",
     "collapsed": false,
     "input": [
      "test = np.genfromtxt('2014111911552775.txt', dtype=float, skip_header=2)"
     ],
     "language": "python",
     "metadata": {},
     "outputs": [],
     "prompt_number": 3
    },
    {
     "cell_type": "code",
     "collapsed": false,
     "input": [
      "np.trapz(test[:,1], test[:,0]/100)**2 / 382.737e6/2/np.pi"
     ],
     "language": "python",
     "metadata": {},
     "outputs": [
      {
       "metadata": {},
       "output_type": "pyout",
       "prompt_number": 4,
       "text": [
        "123.25897135943607"
       ]
      }
     ],
     "prompt_number": 4
    },
    {
     "cell_type": "code",
     "collapsed": false,
     "input": [],
     "language": "python",
     "metadata": {},
     "outputs": []
    }
   ],
   "metadata": {}
  }
 ]
}